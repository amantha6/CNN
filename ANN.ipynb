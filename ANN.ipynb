{
 "cells": [
  {
   "cell_type": "code",
   "execution_count": 1,
   "id": "d11120fc-b312-4793-9736-b1bf1e7108aa",
   "metadata": {},
   "outputs": [],
   "source": [
    "import torch\n",
    "import torch.nn as nn\n",
    "import torch.nn.functional as F"
   ]
  },
  {
   "cell_type": "code",
   "execution_count": 2,
   "id": "adc73ea2-fa28-4820-b842-27f40d860d00",
   "metadata": {},
   "outputs": [],
   "source": [
    "from torch.utils.data import DataLoader\n",
    "from torchvision import datasets, transforms"
   ]
  },
  {
   "cell_type": "code",
   "execution_count": 3,
   "id": "c7a24414-1cc3-4701-b6d3-4ff476420bfe",
   "metadata": {},
   "outputs": [],
   "source": [
    "import numpy as np\n",
    "import pandas as pd"
   ]
  },
  {
   "cell_type": "code",
   "execution_count": 4,
   "id": "c77e0c3e-d2eb-4ebd-85bd-b3f796ec251e",
   "metadata": {},
   "outputs": [],
   "source": [
    "from sklearn.metrics import confusion_matrix\n",
    "import matplotlib.pyplot as plt\n",
    "%matplotlib inline"
   ]
  },
  {
   "cell_type": "code",
   "execution_count": 5,
   "id": "1a91cd1e-bcd6-47e8-bdee-a80fda57982e",
   "metadata": {},
   "outputs": [],
   "source": [
    "#images to tensor\n",
    "#grab the mnist image files and convert it into pytorch tensors\n",
    "transform=transforms.ToTensor()"
   ]
  },
  {
   "cell_type": "code",
   "execution_count": 6,
   "id": "434fdb79-611a-442b-94a4-d7813e845f44",
   "metadata": {},
   "outputs": [],
   "source": [
    "#load in the training set into this folder Data specify it is the training data download it and transform it into the tensor\n",
    "train_data=datasets.MNIST(root='../Data',train=True,download=True,transform=transform)"
   ]
  },
  {
   "cell_type": "code",
   "execution_count": 7,
   "id": "838943e0-ada9-4461-8793-84b8fa366e34",
   "metadata": {},
   "outputs": [],
   "source": [
    "#Loading the testing set into the folder with same settings as above\n",
    "test_data=datasets.MNIST(root='../Data',train=False,download=True,transform=transform)"
   ]
  },
  {
   "cell_type": "code",
   "execution_count": 8,
   "id": "269e6574-ffc9-46a0-8020-430b1d80d606",
   "metadata": {},
   "outputs": [
    {
     "data": {
      "text/plain": [
       "Dataset MNIST\n",
       "    Number of datapoints: 60000\n",
       "    Root location: ../Data\n",
       "    Split: Train\n",
       "    StandardTransform\n",
       "Transform: ToTensor()"
      ]
     },
     "execution_count": 8,
     "metadata": {},
     "output_type": "execute_result"
    }
   ],
   "source": [
    "train_data"
   ]
  },
  {
   "cell_type": "code",
   "execution_count": 9,
   "id": "6d471366-f0f5-4781-9b45-a3bc9e5c06c5",
   "metadata": {},
   "outputs": [
    {
     "data": {
      "text/plain": [
       "Dataset MNIST\n",
       "    Number of datapoints: 10000\n",
       "    Root location: ../Data\n",
       "    Split: Test\n",
       "    StandardTransform\n",
       "Transform: ToTensor()"
      ]
     },
     "execution_count": 9,
     "metadata": {},
     "output_type": "execute_result"
    }
   ],
   "source": [
    "test_data"
   ]
  },
  {
   "cell_type": "code",
   "execution_count": 10,
   "id": "a4eb63d2-78f6-41c4-82f8-12dfa393b7f9",
   "metadata": {},
   "outputs": [
    {
     "data": {
      "text/plain": [
       "torchvision.datasets.mnist.MNIST"
      ]
     },
     "execution_count": 10,
     "metadata": {},
     "output_type": "execute_result"
    }
   ],
   "source": [
    "#examine a single training record\n",
    "type(train_data)"
   ]
  },
  {
   "cell_type": "code",
   "execution_count": 11,
   "id": "d2a4dd73-8081-4a58-9f1c-19b9f86ce802",
   "metadata": {},
   "outputs": [
    {
     "data": {
      "text/plain": [
       "tuple"
      ]
     },
     "execution_count": 11,
     "metadata": {},
     "output_type": "execute_result"
    }
   ],
   "source": [
    "type(train_data[0]) #its a bunch of tensors grouped together, a tensor and a lable"
   ]
  },
  {
   "cell_type": "code",
   "execution_count": 12,
   "id": "b50d2253-5fc9-4f6d-a309-dd992965915a",
   "metadata": {},
   "outputs": [],
   "source": [
    "image,label=train_data[0]"
   ]
  },
  {
   "cell_type": "code",
   "execution_count": 13,
   "id": "fdc8f9cc-8b79-413a-8152-69a946a9d693",
   "metadata": {},
   "outputs": [
    {
     "data": {
      "text/plain": [
       "torch.Size([1, 28, 28])"
      ]
     },
     "execution_count": 13,
     "metadata": {},
     "output_type": "execute_result"
    }
   ],
   "source": [
    "image.shape #it is a grayscale image, single color channel for black or white"
   ]
  },
  {
   "cell_type": "code",
   "execution_count": 14,
   "id": "89242bf6-f4a7-4213-875b-19906481a4fe",
   "metadata": {},
   "outputs": [
    {
     "data": {
      "text/plain": [
       "5"
      ]
     },
     "execution_count": 14,
     "metadata": {},
     "output_type": "execute_result"
    }
   ],
   "source": [
    "label"
   ]
  },
  {
   "cell_type": "code",
   "execution_count": 15,
   "id": "5d32f466-e548-4770-9164-12be85e3d2c3",
   "metadata": {},
   "outputs": [
    {
     "data": {
      "text/plain": [
       "<matplotlib.image.AxesImage at 0x159722cfb50>"
      ]
     },
     "execution_count": 15,
     "metadata": {},
     "output_type": "execute_result"
    },
    {
     "data": {
      "image/png": "[encoded data removed]",
      "text/plain": [
       "<Figure size 640x480 with 1 Axes>"
      ]
     },
     "metadata": {},
     "output_type": "display_data"
    }
   ],
   "source": [
    "#visualize this with matplotlib\n",
    "plt.imshow(image.reshape((28,28)),cmap='gray') #viridis, using some sort of color scale"
   ]
  },
  {
   "cell_type": "code",
   "execution_count": 16,
   "id": "99079abf-a593-4d1f-a4e3-9be89d6f9f00",
   "metadata": {},
   "outputs": [],
   "source": [
    "#understand how to load in batches with the data loader\n",
    "#subsets of 60,000 batches and then load in\n",
    "torch.manual_seed(101)\n",
    "train_loader=DataLoader(train_data,batch_size=100,shuffle=True) #feeding 100 images into the network\n",
    "test_loader=DataLoader(test_data,batch_size=500,shuffle=False)\n",
    "#train_data is pytorch object that supports dataloading and sampling\n",
    "#setting shuffle to true means data will be shuffled in each epoch\n"
   ]
  },
  {
   "cell_type": "code",
   "execution_count": 17,
   "id": "dfbdbf2d-f6f9-41d1-be25-3582cbcda199",
   "metadata": {},
   "outputs": [],
   "source": [
    "from torchvision.utils import make_grid\n",
    "#print the labels right on top of the grid\n",
    "np.set_printoptions(formatter=dict(int=lambda x: f'{x:4}')) #formatting"
   ]
  },
  {
   "cell_type": "code",
   "execution_count": 18,
   "id": "0df33054-657c-4a8e-bbe7-2b358dd96b60",
   "metadata": {},
   "outputs": [],
   "source": [
    "#grab the first batch of images\n",
    "for images,labels in train_loader:\n",
    "    break\n",
    "    #batch size rn is 100, since there are 60,000 images, the loop will go through 60 times. We want the first batch\n",
    "    "
   ]
  },
  {
   "cell_type": "code",
   "execution_count": 19,
   "id": "116aae8a-209e-4536-b0fc-815336d14829",
   "metadata": {},
   "outputs": [
    {
     "data": {
      "text/plain": [
       "tensor([[[[0., 0., 0.,  ..., 0., 0., 0.],\n",
       "          [0., 0., 0.,  ..., 0., 0., 0.],\n",
       "          [0., 0., 0.,  ..., 0., 0., 0.],\n",
       "          ...,\n",
       "          [0., 0., 0.,  ..., 0., 0., 0.],\n",
       "          [0., 0., 0.,  ..., 0., 0., 0.],\n",
       "          [0., 0., 0.,  ..., 0., 0., 0.]]],\n",
       "\n",
       "\n",
       "        [[[0., 0., 0.,  ..., 0., 0., 0.],\n",
       "          [0., 0., 0.,  ..., 0., 0., 0.],\n",
       "          [0., 0., 0.,  ..., 0., 0., 0.],\n",
       "          ...,\n",
       "          [0., 0., 0.,  ..., 0., 0., 0.],\n",
       "          [0., 0., 0.,  ..., 0., 0., 0.],\n",
       "          [0., 0., 0.,  ..., 0., 0., 0.]]],\n",
       "\n",
       "\n",
       "        [[[0., 0., 0.,  ..., 0., 0., 0.],\n",
       "          [0., 0., 0.,  ..., 0., 0., 0.],\n",
       "          [0., 0., 0.,  ..., 0., 0., 0.],\n",
       "          ...,\n",
       "          [0., 0., 0.,  ..., 0., 0., 0.],\n",
       "          [0., 0., 0.,  ..., 0., 0., 0.],\n",
       "          [0., 0., 0.,  ..., 0., 0., 0.]]],\n",
       "\n",
       "\n",
       "        ...,\n",
       "\n",
       "\n",
       "        [[[0., 0., 0.,  ..., 0., 0., 0.],\n",
       "          [0., 0., 0.,  ..., 0., 0., 0.],\n",
       "          [0., 0., 0.,  ..., 0., 0., 0.],\n",
       "          ...,\n",
       "          [0., 0., 0.,  ..., 0., 0., 0.],\n",
       "          [0., 0., 0.,  ..., 0., 0., 0.],\n",
       "          [0., 0., 0.,  ..., 0., 0., 0.]]],\n",
       "\n",
       "\n",
       "        [[[0., 0., 0.,  ..., 0., 0., 0.],\n",
       "          [0., 0., 0.,  ..., 0., 0., 0.],\n",
       "          [0., 0., 0.,  ..., 0., 0., 0.],\n",
       "          ...,\n",
       "          [0., 0., 0.,  ..., 0., 0., 0.],\n",
       "          [0., 0., 0.,  ..., 0., 0., 0.],\n",
       "          [0., 0., 0.,  ..., 0., 0., 0.]]],\n",
       "\n",
       "\n",
       "        [[[0., 0., 0.,  ..., 0., 0., 0.],\n",
       "          [0., 0., 0.,  ..., 0., 0., 0.],\n",
       "          [0., 0., 0.,  ..., 0., 0., 0.],\n",
       "          ...,\n",
       "          [0., 0., 0.,  ..., 0., 0., 0.],\n",
       "          [0., 0., 0.,  ..., 0., 0., 0.],\n",
       "          [0., 0., 0.,  ..., 0., 0., 0.]]]])"
      ]
     },
     "execution_count": 19,
     "metadata": {},
     "output_type": "execute_result"
    }
   ],
   "source": [
    "images"
   ]
  },
  {
   "cell_type": "code",
   "execution_count": 20,
   "id": "8546d692-6c49-49d8-808f-593edcbaf0e7",
   "metadata": {},
   "outputs": [
    {
     "data": {
      "text/plain": [
       "torch.Size([100, 1, 28, 28])"
      ]
     },
     "execution_count": 20,
     "metadata": {},
     "output_type": "execute_result"
    }
   ],
   "source": [
    "images.shape"
   ]
  },
  {
   "cell_type": "code",
   "execution_count": 21,
   "id": "73103bbd-aff9-45f8-9f81-a4d25e2fd69b",
   "metadata": {},
   "outputs": [
    {
     "data": {
      "text/plain": [
       "torch.Size([100])"
      ]
     },
     "execution_count": 21,
     "metadata": {},
     "output_type": "execute_result"
    }
   ],
   "source": [
    "labels.shape"
   ]
  },
  {
   "cell_type": "code",
   "execution_count": 22,
   "id": "98c6e31f-0864-4d35-92f0-c1b6250709ce",
   "metadata": {},
   "outputs": [
    {
     "name": "stdout",
     "output_type": "stream",
     "text": [
      "Labels: [   7    2    3    5    8    5    3    6    9    9    1    3]\n"
     ]
    },
    {
     "data": {
      "image/png": "[encoded data removed]",
      "text/plain": [
       "<Figure size 1000x400 with 1 Axes>"
      ]
     },
     "metadata": {},
     "output_type": "display_data"
    }
   ],
   "source": [
    "#print the fist 12 labels\n",
    "print('Labels:',labels[:12].numpy())\n",
    "#print the first 12 images\n",
    "im=make_grid(images[:12],nrow=12)\n",
    "#grab 12 images define the number of rows and we say plt figure and make the image larger\n",
    "plt.figure(figsize=(10,4))\n",
    "#we transpose the images to make it seen properly\n",
    "plt.imshow(np.transpose(im.numpy(),(1,2,0)));\n",
    "#we print out the 12 labels"
   ]
  },
  {
   "cell_type": "code",
   "execution_count": 43,
   "id": "74203c38-c2e2-4007-aa70-47406acda297",
   "metadata": {},
   "outputs": [],
   "source": [
    "#now we create the multilayer perceptron\n",
    "class MultiLayerPerceptron(nn.Module):\n",
    "    def __init__(self,in_sz=784,out_sz=10,layers=[120,84]):\n",
    "        super().__init__()\n",
    "        self.fc1=nn.Linear(in_sz,layers[0])\n",
    "        self.fc2=nn.Linear(layers[0],layers[1])\n",
    "        self.fc3=nn.Linear(layers[1],out_sz)\n",
    "    def forward(self,X):\n",
    "        X=F.relu(self.fc1(X))\n",
    "        X=F.relu(self.fc2(X))\n",
    "        X=self.fc3(X)\n",
    "\n",
    "        return F.log_softmax(X,dim=1) #multiclass classification"
   ]
  },
  {
   "cell_type": "code",
   "execution_count": 44,
   "id": "882a07dd-9916-4df7-b767-345d45ee372e",
   "metadata": {},
   "outputs": [],
   "source": [
    "#set a seed\n",
    "torch.manual_seed(101)\n",
    "model=MultiLayerPerceptron()"
   ]
  },
  {
   "cell_type": "markdown",
   "id": "484cd4e7-5afb-4b69-9678-fb4237e82de8",
   "metadata": {},
   "source": [
    "Model: Define the Model"
   ]
  },
  {
   "cell_type": "code",
   "execution_count": 45,
   "id": "833ec0f4-af59-4187-83e3-c1bebd2548ae",
   "metadata": {},
   "outputs": [
    {
     "data": {
      "text/plain": [
       "MultiLayerPerceptron(\n",
       "  (fc1): Linear(in_features=784, out_features=120, bias=True)\n",
       "  (fc2): Linear(in_features=120, out_features=84, bias=True)\n",
       "  (fc3): Linear(in_features=84, out_features=10, bias=True)\n",
       ")"
      ]
     },
     "execution_count": 45,
     "metadata": {},
     "output_type": "execute_result"
    }
   ],
   "source": [
    "model"
   ]
  },
  {
   "cell_type": "code",
   "execution_count": 46,
   "id": "ce62502a-c558-4d5c-ba0b-bd7370109e8f",
   "metadata": {},
   "outputs": [
    {
     "name": "stdout",
     "output_type": "stream",
     "text": [
      "94080\n",
      "120\n",
      "10080\n",
      "84\n",
      "840\n",
      "10\n"
     ]
    }
   ],
   "source": [
    "#ANN has 780 neural networks connected and that outputs 120 features\n",
    "#number of elements\n",
    "#A huge number of parameters these are all the connections \n",
    "#sum this all up 105,214 total parameters which is a lot\n",
    "for param in model.parameters():\n",
    "    print(param.numel())"
   ]
  },
  {
   "cell_type": "code",
   "execution_count": 47,
   "id": "a3de34b0-30c7-4c77-88f4-aeaa36d62dd3",
   "metadata": {},
   "outputs": [],
   "source": [
    "#Moving to convulational neural network"
   ]
  },
  {
   "cell_type": "code",
   "execution_count": 48,
   "id": "bcd12c3a-bb93-4ba3-aed6-3be7680bfd1e",
   "metadata": {},
   "outputs": [],
   "source": [
    "#finding a loss function and an optimizer\n",
    "criterion=nn.CrossEntropyLoss()\n",
    "optimizer=torch.optim.Adam(model.parameters(),lr=0.001)"
   ]
  },
  {
   "cell_type": "code",
   "execution_count": null,
   "id": "eb445706-d93a-4d80-8e04-adda3f25de7c",
   "metadata": {},
   "outputs": [],
   "source": []
  },
  {
   "cell_type": "code",
   "execution_count": 49,
   "id": "b07a2b76-3140-4513-9e34-40d7d154c1c8",
   "metadata": {},
   "outputs": [
    {
     "data": {
      "text/plain": [
       "torch.Size([100, 1, 28, 28])"
      ]
     },
     "execution_count": 49,
     "metadata": {},
     "output_type": "execute_result"
    }
   ],
   "source": [
    "images.shape"
   ]
  },
  {
   "cell_type": "raw",
   "id": "802a68c5-3434-4f23-8324-52962160f108",
   "metadata": {},
   "source": []
  },
  {
   "cell_type": "code",
   "execution_count": 50,
   "id": "1b0b99e0-1b58-4114-bdca-3911f05ac205",
   "metadata": {},
   "outputs": [
    {
     "data": {
      "text/plain": [
       "torch.Size([100, 784])"
      ]
     },
     "execution_count": 50,
     "metadata": {},
     "output_type": "execute_result"
    }
   ],
   "source": [
    "#Taking the last three and comining these into a single dimension, we will multiply the dimension size of these\n",
    "#Quickest way to do this is by using view\n",
    "images.view(100,-1).shape"
   ]
  },
  {
   "cell_type": "code",
   "execution_count": 53,
   "id": "a5498c85-91fe-4d30-b2ff-ed1ca5de85eb",
   "metadata": {},
   "outputs": [
    {
     "name": "stdout",
     "output_type": "stream",
     "text": [
      "Epoch 0 batch 200 loss: 0.1330084204673767 accuracy: 95.36%\n",
      "Epoch 0 batch 400 loss: 0.1347522884607315 accuracy: 95.75%\n",
      "Epoch 0 batch 600 loss: 0.057103872299194336 accuracy: 95.83%\n",
      "Epoch 1 batch 200 loss: 0.027174554765224457 accuracy: 96.97%\n",
      "Epoch 1 batch 400 loss: 0.18340110778808594 accuracy: 96.97%\n",
      "Epoch 1 batch 600 loss: 0.03390445560216904 accuracy: 97.08%\n",
      "Epoch 2 batch 200 loss: 0.029991207644343376 accuracy: 97.68%\n",
      "Epoch 2 batch 400 loss: 0.15932564437389374 accuracy: 97.65%\n",
      "Epoch 2 batch 600 loss: 0.03859355300664902 accuracy: 97.67%\n",
      "Epoch 3 batch 200 loss: 0.039179544895887375 accuracy: 98.34%\n",
      "Epoch 3 batch 400 loss: 0.08167535811662674 accuracy: 98.25%\n",
      "Epoch 3 batch 600 loss: 0.12174870818853378 accuracy: 98.24%\n",
      "Epoch 4 batch 200 loss: 0.10878511518239975 accuracy: 98.60%\n",
      "Epoch 4 batch 400 loss: 0.046266961842775345 accuracy: 98.53%\n",
      "Epoch 4 batch 600 loss: 0.0874919444322586 accuracy: 98.48%\n",
      "Epoch 5 batch 200 loss: 0.05168507993221283 accuracy: 98.91%\n",
      "Epoch 5 batch 400 loss: 0.00637716893106699 accuracy: 98.80%\n",
      "Epoch 5 batch 600 loss: 0.034574564546346664 accuracy: 98.76%\n",
      "Epoch 6 batch 200 loss: 0.04144368693232536 accuracy: 99.05%\n",
      "Epoch 6 batch 400 loss: 0.10505139082670212 accuracy: 98.97%\n",
      "Epoch 6 batch 600 loss: 0.00984058529138565 accuracy: 98.97%\n",
      "Epoch 7 batch 200 loss: 0.008417203091084957 accuracy: 99.32%\n",
      "Epoch 7 batch 400 loss: 0.03039839304983616 accuracy: 99.18%\n",
      "Epoch 7 batch 600 loss: 0.031882841140031815 accuracy: 99.10%\n",
      "Epoch 8 batch 200 loss: 0.006243850104510784 accuracy: 99.36%\n",
      "Epoch 8 batch 400 loss: 0.041372403502464294 accuracy: 99.31%\n",
      "Epoch 8 batch 600 loss: 0.04326632618904114 accuracy: 99.27%\n",
      "Epoch 9 batch 200 loss: 0.0041863275691866875 accuracy: 99.58%\n",
      "Epoch 9 batch 400 loss: 0.004493942484259605 accuracy: 99.49%\n",
      "Epoch 9 batch 600 loss: 0.015849387273192406 accuracy: 99.45%\n",
      "Duration: 7.87 mins\n"
     ]
    }
   ],
   "source": [
    "# Trackers (keep these as lists to store per epoch results)\n",
    "train_losses = []\n",
    "test_losses = []\n",
    "train_correct_list = []  # Renaming to avoid confusion with per-epoch counts\n",
    "test_correct_list = []   # Renaming to avoid confusion\n",
    "\n",
    "# Training loop\n",
    "for i in range(epochs):\n",
    "    train_correct = 0  # Initialize for the current epoch\n",
    "    test_correct = 0   # Initialize for the current epoch\n",
    "    for b, (X_train, y_train) in enumerate(train_loader):\n",
    "        b += 1  # Start at the first batch\n",
    "        \n",
    "        # Forward pass through the network\n",
    "        y_pred = model(X_train.view(100, -1))  # Flatten the input image\n",
    "        loss = criterion(y_pred, y_train)      # Compute the loss\n",
    "        \n",
    "        # Backward pass and optimization\n",
    "        optimizer.zero_grad()                  # Clear previous gradients\n",
    "        loss.backward()                        # Compute new gradients\n",
    "        optimizer.step()                       # Update model parameters\n",
    "        \n",
    "        # Compute the number of correct predictions\n",
    "        predicted = torch.max(y_pred.data, 1)[1]  # Get the index of the max log-probability\n",
    "        batch_correct = (predicted == y_train).sum()  # Compare to ground truth\n",
    "        train_correct += batch_correct  # Keep track of correct predictions\n",
    "        \n",
    "        if b % 200 == 0:\n",
    "            accuracy = train_correct.item() * 100 / (100 * b)\n",
    "            print(f'Epoch {i} batch {b} loss: {loss.item()} accuracy: {accuracy:.2f}%')\n",
    "    \n",
    "    # Store training metrics\n",
    "    train_losses.append(loss.item())\n",
    "    train_correct_list.append(train_correct.item())  # Append the total correct count for this epoch\n",
    "    \n",
    "    with torch.no_grad():  # Don't track gradients for test data\n",
    "        for b, (X_test, y_test) in enumerate(test_loader):\n",
    "            y_val = model(X_test.view(500, -1))  # Flatten the test images\n",
    "            predicted = torch.max(y_val.data, 1)[1]\n",
    "            test_correct += (predicted == y_test).sum()\n",
    "        loss = criterion(y_val, y_test)\n",
    "        test_losses.append(loss.item())  # Append loss for this epoch\n",
    "        test_correct_list.append(test_correct.item())  # Append the total correct count for test set\n",
    "\n",
    "total_time = time.time() - start_time\n",
    "print(f'Duration: {total_time / 60:.2f} mins')\n"
   ]
  },
  {
   "cell_type": "code",
   "execution_count": 56,
   "id": "9f99c418-d2b4-41be-ba57-c863292e9e5a",
   "metadata": {},
   "outputs": [
    {
     "data": {
      "text/plain": [
       "<matplotlib.legend.Legend at 0x15977ee2df0>"
      ]
     },
     "execution_count": 56,
     "metadata": {},
     "output_type": "execute_result"
    },
    {
     "data": {
      "image/png": "[encoded data removed]",
      "text/plain": [
       "<Figure size 640x480 with 1 Axes>"
      ]
     },
     "metadata": {},
     "output_type": "display_data"
    }
   ],
   "source": [
    "#plotting out our train losses \n",
    "plt.plot(train_losses,label='training loss')\n",
    "plt.plot(test_losses,label='Test/Validation Loss')\n",
    "plt.legend()"
   ]
  },
  {
   "cell_type": "code",
   "execution_count": 70,
   "id": "0c4d4421-e5ee-4016-8560-9b6ec61169ae",
   "metadata": {},
   "outputs": [
    {
     "data": {
      "text/plain": [
       "[95.825,\n",
       " 97.075,\n",
       " 97.675,\n",
       " 98.23833333333333,\n",
       " 98.47666666666667,\n",
       " 98.75666666666666,\n",
       " 98.96833333333333,\n",
       " 99.1,\n",
       " 99.26833333333333,\n",
       " 99.45]"
      ]
     },
     "execution_count": 70,
     "metadata": {},
     "output_type": "execute_result"
    }
   ],
   "source": [
    "train_Accuracy=[t/600 for t in train_correct_list]\n",
    "train_Accuracy"
   ]
  },
  {
   "cell_type": "code",
   "execution_count": 71,
   "id": "d41f7125-ce15-4698-9635-563407711f92",
   "metadata": {},
   "outputs": [
    {
     "data": {
      "text/plain": [
       "[96.25, 96.97, 97.4, 97.31, 97.58, 97.69, 97.58, 97.44, 97.54, 97.67]"
      ]
     },
     "execution_count": 71,
     "metadata": {},
     "output_type": "execute_result"
    }
   ],
   "source": [
    "test_Accuracy=[t/100 for t in test_correct_list]\n",
    "test_Accuracy"
   ]
  },
  {
   "cell_type": "code",
   "execution_count": 73,
   "id": "ab8e1113-f307-4b74-b9d9-adc9d626d65e",
   "metadata": {},
   "outputs": [
    {
     "data": {
      "text/plain": [
       "<matplotlib.legend.Legend at 0x1597b6cf130>"
      ]
     },
     "execution_count": 73,
     "metadata": {},
     "output_type": "execute_result"
    },
    {
     "data": {
      "image/png": "[encoded data removed]",
      "text/plain": [
       "<Figure size 640x480 with 1 Axes>"
      ]
     },
     "metadata": {},
     "output_type": "display_data"
    }
   ],
   "source": [
    "#plot training accuracy over time\n",
    "plt.plot(train_Accuracy,label='training accuracy')\n",
    "plt.plot(test_Accuracy,label='testing accuracy')\n",
    "plt.legend()"
   ]
  },
  {
   "cell_type": "code",
   "execution_count": 75,
   "id": "da77a965-b444-409f-babd-37c429c6f3fb",
   "metadata": {},
   "outputs": [],
   "source": [
    "#Evaluate the test data seperately\n",
    "#for new unseen data through the trained network\n",
    "test_load_all=DataLoader(test_data,batch_size=10000,shuffle=False)\n"
   ]
  },
  {
   "cell_type": "code",
   "execution_count": 78,
   "id": "ded1eb71-175f-489d-bf32-6ef686905b1a",
   "metadata": {},
   "outputs": [],
   "source": [
    "with torch.no_grad():\n",
    "    correct=0\n",
    "    for X_test,y_test in test_load_all:\n",
    "        y_val=model(X_test.view(len(X_test),-1)) #flattens all the images in the next test\n",
    "        predicted=torch.max(y_val,1)[1]\n",
    "        correct+=(predicted==y_test).sum()"
   ]
  },
  {
   "cell_type": "code",
   "execution_count": 82,
   "id": "36037b26-f0f8-41d7-97eb-5d09eeee90d4",
   "metadata": {},
   "outputs": [
    {
     "name": "stdout",
     "output_type": "stream",
     "text": [
      "Accuracy is 97.67\n"
     ]
    }
   ],
   "source": [
    "print(f'Accuracy is {100*correct.item()/len(test_data)}')"
   ]
  },
  {
   "cell_type": "code",
   "execution_count": 83,
   "id": "ff39454a-92b6-4a8a-afbe-950d69848130",
   "metadata": {},
   "outputs": [
    {
     "data": {
      "text/plain": [
       "array([[ 963,    0,    4,    0,    1,    2,    4,    1,    3,    0],\n",
       "       [   0, 1124,    0,    0,    0,    0,    2,    3,    0,    2],\n",
       "       [   0,    2, 1011,    1,    2,    0,    2,    8,    3,    0],\n",
       "       [   1,    4,    3,  996,    0,   18,    1,    4,    7,    4],\n",
       "       [   2,    0,    2,    0,  966,    3,    4,    7,    4,   14],\n",
       "       [   0,    0,    0,    2,    0,  847,    2,    0,    2,    2],\n",
       "       [   2,    2,    3,    0,    5,    4,  942,    0,    1,    1],\n",
       "       [   2,    0,    2,    3,    1,    2,    0,  992,    3,    1],\n",
       "       [   4,    3,    5,    4,    0,   13,    1,    4,  948,    7],\n",
       "       [   6,    0,    2,    4,    7,    3,    0,    9,    3,  978]],\n",
       "      dtype=int64)"
      ]
     },
     "execution_count": 83,
     "metadata": {},
     "output_type": "execute_result"
    }
   ],
   "source": [
    "#confusion matrix\n",
    "confusion_matrix(predicted.view(-1),y_test.view(-1))"
   ]
  },
  {
   "cell_type": "code",
   "execution_count": 84,
   "id": "cfab4c32-83f0-40ae-8aef-200aed551272",
   "metadata": {},
   "outputs": [
    {
     "data": {
      "text/plain": [
       "233"
      ]
     },
     "execution_count": 84,
     "metadata": {},
     "output_type": "execute_result"
    }
   ],
   "source": [
    "#We can also track the misses that confused our network\n",
    "misses=np.array([])\n",
    "for i in range(len(predicted.view(-1))):\n",
    "    if predicted[i]!=y_test[i]:\n",
    "        misses=np.append(misses,i).astype('int64')\n",
    "#now we will display the number of misses\n",
    "len(misses)"
   ]
  },
  {
   "cell_type": "code",
   "execution_count": 85,
   "id": "a3241281-0e7d-412d-a179-0f7b3f2cb526",
   "metadata": {},
   "outputs": [
    {
     "data": {
      "text/plain": [
       "array([ 124,  149,  151,  247,  259,  321,  340,  445,  460,  495],\n",
       "      dtype=int64)"
      ]
     },
     "execution_count": 85,
     "metadata": {},
     "output_type": "execute_result"
    }
   ],
   "source": [
    "#displaying the first 10 index positions\n",
    "misses[:10]"
   ]
  },
  {
   "cell_type": "code",
   "execution_count": 86,
   "id": "3f0fc1be-8713-4c26-8119-e835e658243b",
   "metadata": {},
   "outputs": [],
   "source": [
    "#set up the iterator to feed the batch rows\n",
    "r=12 #this is the row size\n",
    "row=iter(np.array_split(misses,len(misses)//r+1))"
   ]
  },
  {
   "cell_type": "code",
   "execution_count": 87,
   "id": "05be87df-3dae-4988-b03d-696270088533",
   "metadata": {},
   "outputs": [],
   "source": [
    "#Now that everything is set up, run and re-run the cell below to view all of the missed predictions.<br>\n",
    "# Use <kbd>Ctrl+Enter</kbd> to remain on the cell between runs. You'll see a <tt>StopIteration</tt> once all the misses have been seen."
   ]
  },
  {
   "cell_type": "code",
   "execution_count": 88,
   "id": "15c8872e-5557-4eed-893d-198d09732657",
   "metadata": {},
   "outputs": [
    {
     "name": "stdout",
     "output_type": "stream",
     "text": [
      "Index: [ 124  149  151  247  259  321  340  445  460  495  552  582]\n",
      "Label: [   7    2    9    4    6    2    5    6    5    8    0    8]\n",
      "Guess: [   4    9    8    2    0    7    3    0    9    2    9    2]\n"
     ]
    },
    {
     "data": {
      "image/png": "[encoded data removed]",
      "text/plain": [
       "<Figure size 1000x400 with 1 Axes>"
      ]
     },
     "metadata": {},
     "output_type": "display_data"
    }
   ],
   "source": [
    "nextrow = next(row)\n",
    "print(\"Index:\", nextrow)\n",
    "print(\"Label:\", y_test.index_select(0,torch.tensor(nextrow)).numpy())\n",
    "print(\"Guess:\", predicted.index_select(0,torch.tensor(nextrow)).numpy())\n",
    "\n",
    "images = X_test.index_select(0,torch.tensor(nextrow))\n",
    "im = make_grid(images, nrow=r)\n",
    "plt.figure(figsize=(10,4))\n",
    "plt.imshow(np.transpose(im.numpy(), (1, 2, 0)));"
   ]
  },
  {
   "cell_type": "code",
   "execution_count": null,
   "id": "04bbbdb3-c50b-47e9-8998-6f4b01b29ad2",
   "metadata": {},
   "outputs": [],
   "source": []
  }
 ],
 "metadata": {
  "kernelspec": {
   "display_name": "Python (pytorchenv)",
   "language": "python",
   "name": "pytorchenv"
  },
  "language_info": {
   "codemirror_mode": {
    "name": "ipython",
    "version": 3
   },
   "file_extension": ".py",
   "mimetype": "text/x-python",
   "name": "python",
   "nbconvert_exporter": "python",
   "pygments_lexer": "ipython3",
   "version": "3.8.19"
  }
 },
 "nbformat": 4,
 "nbformat_minor": 5
}
